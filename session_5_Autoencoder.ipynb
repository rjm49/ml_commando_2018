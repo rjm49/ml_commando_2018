{
 "cells": [
  {
   "cell_type": "markdown",
   "metadata": {},
   "source": [
    "# M/L Commando Course, Cambridge 2018\n",
    "\n",
    "This notebook builds a simple autoencoder as a curio."
   ]
  },
  {
   "cell_type": "code",
   "execution_count": null,
   "metadata": {},
   "outputs": [],
   "source": [
    "from copy import copy\n",
    "from math import exp\n",
    "from random import random, shuffle, choice, randint\n",
    "\n",
    "from keras import Input\n",
    "from numpy import array, mean\n",
    "from pandas import concat\n",
    "from pandas import DataFrame\n",
    "from keras.models import Sequential\n",
    "from keras.layers import Dense,Reshape"
   ]
  },
  {
   "cell_type": "code",
   "execution_count": null,
   "metadata": {},
   "outputs": [],
   "source": [
    "import scipy\n",
    "from scipy import misc\n",
    "import numpy\n",
    "from sklearn.preprocessing import MinMaxScaler\n",
    "import imageio\n",
    "from scipy import ndimage\n",
    "from pylab import plt\n",
    "\n",
    "critter = misc.face()\n",
    "plt.imshow(critter)\n",
    "plt.show()\n",
    "\n",
    "critter_luminosity = critter[:, :, 0]\n",
    "critter_average = numpy.median(critter, axis=2)\n",
    "\n",
    "sc = MinMaxScaler(feature_range=(0,1))\n",
    "\n",
    "print(critter.shape)\n",
    "\n",
    "plt.imshow(critter_average)\n",
    "plt.show()\n",
    "print(\"scale the critter\")\n",
    "critter = scipy.ndimage.zoom(critter_average, 0.2, order=3)\n",
    "print(critter.shape)\n",
    "# critter = numpy.array(critter, dtype='uint8')\n",
    "critter = sc.fit_transform(critter)\n",
    "plt.imshow(critter)\n",
    "#plt.show()\n",
    "\n",
    "print([critter[0:10]])\n",
    "\n"
   ]
  },
  {
   "cell_type": "code",
   "execution_count": null,
   "metadata": {},
   "outputs": [],
   "source": [
    "from keras import Model\n",
    "#Use the Keras functional API to build an autoencoder\n",
    "img_shape = critter.shape\n",
    "img_flat_len = img_shape[0]*img_shape[1]\n",
    "compression_factor = 10\n",
    "repr_shape = (img_shape[0]//compression_factor) *(img_shape[1]//compression_factor) #SQUISH\n",
    "\n",
    "# \"encoded\" is the encoded representation of the input\n",
    "input_img = Input(shape=(img_flat_len,))\n",
    "encoded = Dense(repr_shape, input_shape=(img_flat_len,), activation='relu', name=\"encoded\")(input_img)\n",
    "# \"decoded\" is the lossy reconstruction of the input\n",
    "decoded = Dense(img_flat_len, activation='sigmoid')(encoded)\n",
    "# this model maps an input to its reconstruction\n",
    "autoencoder = Model(input_img, decoded)\n",
    "\n",
    "autoencoder.summary()"
   ]
  },
  {
   "cell_type": "code",
   "execution_count": null,
   "metadata": {},
   "outputs": [],
   "source": [
    "autoencoder.compile(optimizer='adam', loss='binary_crossentropy', metrics=[\"mae\"])"
   ]
  },
  {
   "cell_type": "code",
   "execution_count": null,
   "metadata": {},
   "outputs": [],
   "source": [
    "squashed = critter.reshape(1,-1)\n",
    "print(squashed.shape)\n",
    "print(squashed.dtype)\n",
    "\n",
    "print([squashed[0:10]])"
   ]
  },
  {
   "cell_type": "code",
   "execution_count": null,
   "metadata": {},
   "outputs": [],
   "source": [
    "from keras.callbacks import EarlyStopping\n",
    "es = EarlyStopping(monitor='loss', patience=0, verbose=0, mode='auto')\n",
    "autoencoder.fit(squashed, squashed, verbose=1, callbacks=[es], epochs=10, batch_size=10)"
   ]
  },
  {
   "cell_type": "code",
   "execution_count": null,
   "metadata": {},
   "outputs": [],
   "source": [
    "reconstituted = autoencoder.predict(squashed)\n",
    "print(reconstituted[0:10])\n",
    "\n",
    "reconstituted = reconstituted.reshape(img_shape)\n",
    "plt.imshow(reconstituted)"
   ]
  },
  {
   "cell_type": "markdown",
   "metadata": {},
   "source": [
    "So, we can recover the raccoon in near-to-original quality.  What is going on in the hidden layer?"
   ]
  },
  {
   "cell_type": "code",
   "execution_count": null,
   "metadata": {},
   "outputs": [],
   "source": [
    "from keras import backend as K\n",
    "\n",
    "# use a lambda expression to create a function generator\n",
    "# this takes a network and a value n, and returns a function to access the nth layer of that network\n",
    "nth_layer_output_generator = lambda my_network, n: K.function([my_network.layers[0].input],[my_network.layers[n].output])\n",
    "get_1st_layer = nth_layer_output_generator(autoencoder, 1)\n",
    "# to use the function, we must then pass an input into the network\n",
    "# the function also returns a list, so we have to take the [0]th value from the list...\n",
    "layer_output = get_1st_layer([squashed])[0]\n",
    "plt.imshow(layer_output.reshape((img_shape[0]//compression_factor),(img_shape[1]//compression_factor)))\n"
   ]
  }
 ],
 "metadata": {
  "kernelspec": {
   "display_name": "Python 3",
   "language": "python",
   "name": "python3"
  },
  "language_info": {
   "codemirror_mode": {
    "name": "ipython",
    "version": 3
   },
   "file_extension": ".py",
   "mimetype": "text/x-python",
   "name": "python",
   "nbconvert_exporter": "python",
   "pygments_lexer": "ipython3",
   "version": "3.6.3"
  }
 },
 "nbformat": 4,
 "nbformat_minor": 2
}
